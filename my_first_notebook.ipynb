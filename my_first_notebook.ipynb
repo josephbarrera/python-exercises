{
 "cells": [
  {
   "cell_type": "markdown",
   "id": "e5ea601a",
   "metadata": {},
   "source": [
    "# My First Jupyter Notebook\n",
    "\n",
    "## What?\n",
    "Jupyter notebooks are composed of cells. Cells can be code or markdown. Together, this means we can write GREAT documentation while we're coding.\n",
    "\n",
    "## So what?\n",
    "1. Python visualizations render in place in our notebooks\n",
    "2. Noteboks allow us to write directions/documentation in markdown/html\n",
    "3. Code runs through ipython , which means we can \n",
    "\n",
    "## Now what?\n",
    "- Change directories to your project directory\n",
    "- Run \"jupyter notebook\" and the service starts\n",
    "- This means you'll need a couple of terminal tabs open\n",
    "- Now, you can run Python in a notebook"
   ]
  },
  {
   "cell_type": "code",
   "execution_count": null,
   "id": "2e4cc958",
   "metadata": {},
   "outputs": [],
   "source": [
    "greeting = \"Hi, Everybody!\"\n",
    "print(greeting)"
   ]
  },
  {
   "cell_type": "code",
   "execution_count": null,
   "id": "77306bd2",
   "metadata": {},
   "outputs": [],
   "source": []
  }
 ],
 "metadata": {
  "kernelspec": {
   "display_name": "Python 3",
   "language": "python",
   "name": "python3"
  },
  "language_info": {
   "codemirror_mode": {
    "name": "ipython",
    "version": 3
   },
   "file_extension": ".py",
   "mimetype": "text/x-python",
   "name": "python",
   "nbconvert_exporter": "python",
   "pygments_lexer": "ipython3",
   "version": "3.8.8"
  }
 },
 "nbformat": 4,
 "nbformat_minor": 5
}
